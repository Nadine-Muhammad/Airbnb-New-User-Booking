{
  "cells": [
    {
      "cell_type": "code",
      "execution_count": 22,
      "metadata": {
        "id": "C6ClU40yN3GM"
      },
      "outputs": [],
      "source": [
        "import pandas as pd\n",
        "import numpy as np\n",
        "import os\n",
        "import torch\n",
        "import torch.nn as nn\n",
        "import torch.optim as optim\n",
        "from sklearn.model_selection import train_test_split\n",
        "from sklearn.preprocessing import MinMaxScaler\n",
        "from sklearn.metrics import precision_score, recall_score, f1_score\n",
        "from imblearn.over_sampling import RandomOverSampler\n",
        "import pickle"
      ]
    },
    {
      "cell_type": "code",
      "execution_count": 23,
      "metadata": {},
      "outputs": [],
      "source": [
        "base_dir = os.path.dirname(os.getcwd())\n",
        "processed_dir = os.path.join(base_dir, 'data', 'processed')"
      ]
    },
    {
      "cell_type": "code",
      "execution_count": 24,
      "metadata": {
        "id": "8bgmJNlnN3GP"
      },
      "outputs": [],
      "source": [
        "data = pd.read_csv(os.path.join(processed_dir, 'train.csv'))"
      ]
    },
    {
      "cell_type": "code",
      "execution_count": 25,
      "metadata": {
        "id": "49fNuNAEN3GR"
      },
      "outputs": [],
      "source": [
        "features = data.drop(columns=[\"country_destination\"])\n",
        "labels = data[\"country_destination\"]"
      ]
    },
    {
      "cell_type": "code",
      "execution_count": 26,
      "metadata": {
        "id": "qmtHgRaKN3GS"
      },
      "outputs": [],
      "source": [
        "X_train_val, X_test, y_train_val, y_test = train_test_split(features, labels, test_size=0.2, random_state=42, stratify=labels)\n",
        "X_train, X_val, y_train, y_val = train_test_split(X_train_val, y_train_val, test_size=0.2, random_state=42, stratify=y_train_val)\n",
        "#Train-Val-Test splits that follow the same distribution"
      ]
    },
    {
      "cell_type": "code",
      "execution_count": 27,
      "metadata": {
        "id": "zNaBIAYCN3GS"
      },
      "outputs": [],
      "source": [
        "scaler = MinMaxScaler()\n",
        "X_train = scaler.fit_transform(X_train)\n",
        "X_val = scaler.transform(X_val)\n",
        "X_test = scaler.transform(X_test)"
      ]
    },
    {
      "cell_type": "code",
      "execution_count": 28,
      "metadata": {},
      "outputs": [],
      "source": [
        "path = os.path.join(base_dir, 'src', 'model', 'scaler.pkl')\n",
        "with open(path, 'wb') as f:\n",
        "    pickle.dump(scaler, f)"
      ]
    },
    {
      "cell_type": "markdown",
      "metadata": {},
      "source": [
        "# Oversampling"
      ]
    },
    {
      "cell_type": "code",
      "execution_count": 29,
      "metadata": {
        "id": "7dy4175trZy9"
      },
      "outputs": [],
      "source": [
        "oversample_strategy = {0: 3000, 1: 3000, 2: 3000, 3: 3000, 4: 5000, 5: 3000, 6: 3000, 7: 3000, 8: 3000, 9: 20000, 10: 10000}\n",
        "\n",
        "oversampler = RandomOverSampler(sampling_strategy= oversample_strategy)\n",
        "X_train, y_train = oversampler.fit_resample(X_train, y_train)\n",
        "#Oversampling minority classes to make-up for significant class imbalance"
      ]
    },
    {
      "cell_type": "code",
      "execution_count": 30,
      "metadata": {
        "id": "EXrLhII1N3GS"
      },
      "outputs": [],
      "source": [
        "X_train_tensor = torch.tensor(X_train, dtype=torch.float32)\n",
        "y_train_tensor = torch.tensor(y_train.to_numpy(), dtype=torch.long)\n",
        "X_val_tensor = torch.tensor(X_val, dtype=torch.float32)\n",
        "y_val_tensor = torch.tensor(y_val.to_numpy(), dtype=torch.long)\n",
        "X_test_tensor = torch.tensor(X_test, dtype=torch.float32)\n",
        "y_test_tensor = torch.tensor(y_test.to_numpy(), dtype=torch.long)"
      ]
    },
    {
      "cell_type": "markdown",
      "metadata": {
        "id": "bpYrQ9UbxO0s"
      },
      "source": [
        "# Focal Loss"
      ]
    },
    {
      "cell_type": "code",
      "execution_count": 31,
      "metadata": {},
      "outputs": [],
      "source": [
        "class FocalLoss(nn.Module):\n",
        "    def __init__(self, alpha, gamma, num_classes):\n",
        "        super(FocalLoss, self).__init__()\n",
        "        self.alpha = alpha\n",
        "        self.gamma = gamma\n",
        "        self.num_classes = num_classes\n",
        "        self.ce_loss = nn.CrossEntropyLoss(reduction='none')\n",
        "\n",
        "    def forward(self, inputs, targets):\n",
        "        ce_loss = self.ce_loss(inputs, targets)\n",
        "        pt = torch.exp(-ce_loss)\n",
        "        focal_loss = self.alpha * (1 - pt) ** self.gamma * ce_loss\n",
        "        return focal_loss.mean()"
      ]
    },
    {
      "cell_type": "markdown",
      "metadata": {},
      "source": [
        "# Model Architecture"
      ]
    },
    {
      "cell_type": "code",
      "execution_count": 33,
      "metadata": {},
      "outputs": [],
      "source": [
        "input_size = X_train_tensor.shape[1]\n",
        "hidden_size = 256\n",
        "output_size = 11\n",
        "num_epochs = 40"
      ]
    },
    {
      "cell_type": "code",
      "execution_count": 34,
      "metadata": {},
      "outputs": [],
      "source": [
        "class AirbnbNN(nn.Module):\n",
        "    def __init__(self, input_size, hidden_size, output_size):\n",
        "        super(AirbnbNN, self).__init__()\n",
        "        self.fc1 = nn.Linear(input_size, hidden_size)\n",
        "        self.relu = nn.ReLU()\n",
        "        self.bn1 = nn.BatchNorm1d(hidden_size)\n",
        "        self.fc2 = nn.Linear(hidden_size, hidden_size)\n",
        "        self.bn2 = nn.BatchNorm1d(hidden_size)\n",
        "        self.fc3 = nn.Linear(hidden_size, output_size)\n",
        "\n",
        "    def forward(self, x):\n",
        "        x = self.fc1(x)\n",
        "        x = self.bn1(x)\n",
        "        x = self.relu(x)\n",
        "        x = self.fc2(x)\n",
        "        x = self.bn2(x)\n",
        "        x = self.relu(x)\n",
        "        x = self.fc3(x)\n",
        "        return x"
      ]
    },
    {
      "cell_type": "markdown",
      "metadata": {},
      "source": [
        "# Training Loop"
      ]
    },
    {
      "cell_type": "code",
      "execution_count": 35,
      "metadata": {
        "colab": {
          "base_uri": "https://localhost:8080/"
        },
        "collapsed": true,
        "id": "jihub-qXN3GT",
        "outputId": "e1feafbd-b8b8-4e23-c997-972ea6f43313"
      },
      "outputs": [
        {
          "name": "stdout",
          "output_type": "stream",
          "text": [
            "Epoch [1/40], Train Loss: 0.5009, Val Loss: 0.4978\n",
            "Epoch [2/40], Train Loss: 0.4669, Val Loss: 0.4919\n",
            "Epoch [3/40], Train Loss: 0.4419, Val Loss: 0.4867\n",
            "Epoch [4/40], Train Loss: 0.4225, Val Loss: 0.4809\n",
            "Epoch [5/40], Train Loss: 0.4071, Val Loss: 0.4731\n",
            "Epoch [6/40], Train Loss: 0.3949, Val Loss: 0.4629\n",
            "Epoch [7/40], Train Loss: 0.3854, Val Loss: 0.4501\n",
            "Epoch [8/40], Train Loss: 0.3786, Val Loss: 0.4350\n",
            "Epoch [9/40], Train Loss: 0.3740, Val Loss: 0.4183\n",
            "Epoch [10/40], Train Loss: 0.3707, Val Loss: 0.4004\n",
            "Epoch [11/40], Train Loss: 0.3682, Val Loss: 0.3820\n",
            "Epoch [12/40], Train Loss: 0.3660, Val Loss: 0.3635\n",
            "Epoch [13/40], Train Loss: 0.3639, Val Loss: 0.3454\n",
            "Epoch [14/40], Train Loss: 0.3616, Val Loss: 0.3281\n",
            "Epoch [15/40], Train Loss: 0.3591, Val Loss: 0.3120\n",
            "Epoch [16/40], Train Loss: 0.3563, Val Loss: 0.2977\n",
            "Epoch [17/40], Train Loss: 0.3532, Val Loss: 0.2853\n",
            "Epoch [18/40], Train Loss: 0.3499, Val Loss: 0.2748\n",
            "Epoch [19/40], Train Loss: 0.3466, Val Loss: 0.2662\n",
            "Epoch [20/40], Train Loss: 0.3432, Val Loss: 0.2591\n",
            "Epoch [21/40], Train Loss: 0.3399, Val Loss: 0.2532\n",
            "Epoch [22/40], Train Loss: 0.3367, Val Loss: 0.2482\n",
            "Epoch [23/40], Train Loss: 0.3338, Val Loss: 0.2440\n",
            "Epoch [24/40], Train Loss: 0.3309, Val Loss: 0.2404\n",
            "Epoch [25/40], Train Loss: 0.3282, Val Loss: 0.2375\n",
            "Epoch [26/40], Train Loss: 0.3255, Val Loss: 0.2352\n",
            "Epoch [27/40], Train Loss: 0.3229, Val Loss: 0.2333\n",
            "Epoch [28/40], Train Loss: 0.3202, Val Loss: 0.2318\n",
            "Epoch [29/40], Train Loss: 0.3176, Val Loss: 0.2304\n",
            "Epoch [30/40], Train Loss: 0.3150, Val Loss: 0.2292\n",
            "Epoch [31/40], Train Loss: 0.3123, Val Loss: 0.2281\n",
            "Epoch [32/40], Train Loss: 0.3096, Val Loss: 0.2274\n",
            "Epoch [33/40], Train Loss: 0.3069, Val Loss: 0.2269\n",
            "Epoch [34/40], Train Loss: 0.3042, Val Loss: 0.2268\n",
            "Epoch [35/40], Train Loss: 0.3015, Val Loss: 0.2268\n",
            "Epoch [36/40], Train Loss: 0.2988, Val Loss: 0.2269\n",
            "Epoch [37/40], Train Loss: 0.2961, Val Loss: 0.2270\n",
            "Epoch [38/40], Train Loss: 0.2934, Val Loss: 0.2269\n",
            "Epoch [39/40], Train Loss: 0.2907, Val Loss: 0.2266\n",
            "Epoch [40/40], Train Loss: 0.2880, Val Loss: 0.2263\n"
          ]
        }
      ],
      "source": [
        "model = AirbnbNN(input_size, hidden_size, output_size)\n",
        "criterion = FocalLoss(alpha=.25, gamma=2, num_classes=output_size)\n",
        "optimizer = optim.Adam(model.parameters(), lr=0.001)\n",
        "\n",
        "for epoch in range(num_epochs):\n",
        "    model.train()\n",
        "\n",
        "    # Forward pass\n",
        "    outputs = model(X_train_tensor)\n",
        "    loss = criterion(outputs, y_train_tensor)\n",
        "\n",
        "    # Backward pass\n",
        "    optimizer.zero_grad()\n",
        "    loss.backward()\n",
        "    optimizer.step()\n",
        "\n",
        "    model.eval()\n",
        "    with torch.no_grad():\n",
        "        val_outputs = model(X_val_tensor)\n",
        "        val_loss = criterion(val_outputs, y_val_tensor)\n",
        "\n",
        "    print(f\"Epoch [{epoch+1}/{num_epochs}], Train Loss: {loss.item():.4f}, Val Loss: {val_loss.item():.4f}\")"
      ]
    },
    {
      "cell_type": "markdown",
      "metadata": {
        "id": "WQ3RSIu1yZPg"
      },
      "source": [
        "# Inference"
      ]
    },
    {
      "cell_type": "code",
      "execution_count": 36,
      "metadata": {
        "id": "CQaSmSPYXzKw"
      },
      "outputs": [],
      "source": [
        "with torch.no_grad():\n",
        "    model.eval()\n",
        "    y_pred = model(X_test_tensor)\n",
        "    test_loss = criterion(y_pred, y_test_tensor)"
      ]
    },
    {
      "cell_type": "code",
      "execution_count": 37,
      "metadata": {
        "colab": {
          "base_uri": "https://localhost:8080/"
        },
        "id": "PC4fDCmZYPxX",
        "outputId": "dec1860d-533a-4816-b98d-8df84fea8eca"
      },
      "outputs": [
        {
          "name": "stdout",
          "output_type": "stream",
          "text": [
            "Precision: 0.5574\n",
            "Recall: 0.6785\n",
            "F1-Score: 0.5752\n"
          ]
        },
        {
          "name": "stderr",
          "output_type": "stream",
          "text": [
            "C:\\Users\\sokaily\\AppData\\Local\\Packages\\PythonSoftwareFoundation.Python.3.12_qbz5n2kfra8p0\\LocalCache\\local-packages\\Python312\\site-packages\\sklearn\\metrics\\_classification.py:1565: UndefinedMetricWarning: Precision is ill-defined and being set to 0.0 in labels with no predicted samples. Use `zero_division` parameter to control this behavior.\n",
            "  _warn_prf(average, modifier, f\"{metric.capitalize()} is\", len(result))\n"
          ]
        }
      ],
      "source": [
        "predicted_classes = torch.argmax(y_pred, dim=1)\n",
        "\n",
        "precision = precision_score(y_test_tensor, predicted_classes, average='weighted')\n",
        "recall = recall_score(y_test_tensor, predicted_classes, average='weighted')\n",
        "f1 = f1_score(y_test_tensor, predicted_classes, average='weighted')\n",
        "\n",
        "print(f\"Precision: {precision:.4f}\")\n",
        "print(f\"Recall: {recall:.4f}\")\n",
        "print(f\"F1-Score: {f1:.4f}\")"
      ]
    },
    {
      "cell_type": "code",
      "execution_count": 38,
      "metadata": {},
      "outputs": [],
      "source": [
        "dir = os.path.join(base_dir, 'src', 'model')\n",
        "torch.save(model.state_dict(), os.path.join(dir, \"model-0.1.0.pth\"))"
      ]
    }
  ],
  "metadata": {
    "colab": {
      "provenance": []
    },
    "kernelspec": {
      "display_name": "Python 3",
      "name": "python3"
    },
    "language_info": {
      "codemirror_mode": {
        "name": "ipython",
        "version": 3
      },
      "file_extension": ".py",
      "mimetype": "text/x-python",
      "name": "python",
      "nbconvert_exporter": "python",
      "pygments_lexer": "ipython3",
      "version": "3.12.6"
    }
  },
  "nbformat": 4,
  "nbformat_minor": 0
}
